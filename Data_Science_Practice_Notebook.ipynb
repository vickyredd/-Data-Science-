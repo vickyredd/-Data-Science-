{
  "nbformat": 4,
  "nbformat_minor": 0,
  "metadata": {
    "colab": {
      "provenance": []
    },
    "kernelspec": {
      "name": "python3",
      "display_name": "Python 3"
    },
    "language_info": {
      "name": "python"
    }
  },
  "cells": [
    {
      "cell_type": "markdown",
      "source": [
        "**Exercise 2 -\n",
        "Title of the Notebook**\n",
        "\n",
        "\n",
        "**Data Science Tools and Ecosystem**\n",
        "\n",
        "**Exercise 3 - Introduction**\n",
        "\n",
        "In this notebook, we will explore various tools, languages, and libraries used in Data Science. Additionally, we will demonstrate basic arithmetic operations in Python.\n",
        "\n",
        "**Exercise 4 - List of Data Science Languages**\n",
        "\n",
        "Some of the commonly used programming languages in Data Science are:\n",
        "\n",
        "Python\n",
        "\n",
        "R\n",
        "\n",
        "SQL\n",
        "\n",
        "Julia\n",
        "\n",
        "Scala\n",
        "\n",
        "**Exercise 5 - List of Data Science Libraries**\n",
        "\n",
        "Some of the popular libraries used in Data Science include:\n",
        "\n",
        "NumPy\n",
        "\n",
        "Pandas\n",
        "\n",
        "Matplotlib\n",
        "\n",
        "Scikit-learn\n",
        "\n",
        "TensorFlow\n",
        "\n",
        "**Exercise 6 - Table of Data Science Tools**\n",
        "\n",
        "Jupyter Notebook\n",
        "RStudio\n",
        "Apache Spark\n",
        "TensorFlow\n",
        "Tableau\n",
        "\n",
        "\n",
        "**Exercise 7 - Introduction to Arithmetic Expressions**\n",
        "\n",
        "Arithmetic expressions in programming involve basic mathematical operations such as addition, subtraction, multiplication, and division. Below are some examples demonstrating these operations.\n",
        "Addition (+):  (2+3)\n",
        "\n",
        "Subtraction (-): (2-3)\n",
        "\n",
        "Multiplication (*) : (2*3)\n",
        "\n",
        "Division (/): (2/3)"
      ],
      "metadata": {
        "id": "_qwaZHy1iz2r"
      }
    },
    {
      "cell_type": "code",
      "source": [
        "## Exercise 8 - Create a code cell to multiply and add numbers.\n",
        "\n",
        "num1 = 5\n",
        "num2 = 3\n",
        "result_multiply = num1 * num2\n",
        "result_add = num1 + num2\n",
        "print(\"Multiplication Result:\", result_multiply)\n",
        "print(\"Addition Result:\", result_add)"
      ],
      "metadata": {
        "id": "-i7dlUXAi91-"
      },
      "execution_count": null,
      "outputs": []
    },
    {
      "cell_type": "code",
      "source": [
        "## Exercise 9 - Create a code cell to convert minutes to hours.\n",
        "minutes = 120\n",
        "hours = minutes / 60\n",
        "print(\"Hours:\", hours)"
      ],
      "metadata": {
        "id": "zpI_Tbq1jAuO"
      },
      "execution_count": null,
      "outputs": []
    },
    {
      "cell_type": "markdown",
      "source": [
        "**Exercise 10 -Insert a markdown cell to list Objectives.**\n",
        "\n",
        "Key objectives of this notebook:\n",
        "- Understand popular Data Science languages\n",
        "- Learn about commonly used libraries\n",
        "- Explore different Data Science tools\n",
        "- Perform basic arithmetic operations\n",
        "- Convert units (minutes to hours)"
      ],
      "metadata": {
        "id": "Iq70KMQGjfBU"
      }
    },
    {
      "cell_type": "markdown",
      "source": [
        "**Author**:\n",
        " Vigneshwar Reddy Sheelam"
      ],
      "metadata": {
        "id": "c4S-Fsp7jsIu"
      }
    }
  ]
}