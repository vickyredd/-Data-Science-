{
  "cells": [
    {
      "cell_type": "code",
      "execution_count": 2,
      "metadata": {
        "id": "CJqMiEQ6T_Qs"
      },
      "outputs": [],
      "source": [
        "### Exercise 2 - Title of the Notebook\n",
        "# Data Science Practice Notebook"
      ]
    },
    {
      "cell_type": "code",
      "execution_count": 1,
      "metadata": {
        "colab": {
          "base_uri": "https://localhost:8080/",
          "height": 36
        },
        "id": "lk-koCpiUFfL",
        "outputId": "ca17d47e-2ce2-4c83-9d11-8b164dd07a7e"
      },
      "outputs": [
        {
          "data": {
            "text/plain": [
              "'\\nThis notebook covers fundamental concepts in Data Science, including popular languages, libraries, and tools.\\n'"
            ]
          },
          "execution_count": 1,
          "metadata": {},
          "output_type": "execute_result"
        }
      ],
      "source": [
        "### Exercise 3 - Introduction\n",
        "\"\"\"\n",
        "This notebook covers fundamental concepts in Data Science, including popular languages, libraries, and tools.\n",
        "\"\"\""
      ]
    },
    {
      "cell_type": "code",
      "execution_count": 15,
      "metadata": {
        "colab": {
          "base_uri": "https://localhost:8080/",
          "height": 36
        },
        "id": "8uZ50lfRWgjj",
        "outputId": "81f40693-57de-4935-cc0a-4e67d39e4ed6"
      },
      "outputs": [
        {
          "data": {
            "application/vnd.google.colaboratory.intrinsic+json": {
              "type": "string"
            },
            "text/plain": [
              "'\\nSome commonly used programming languages in Data Science:\\n1. Python\\n2. R\\n3. SQL\\n4. Java\\n5. Julia\\n6. Scala\\n7. MATLAB\\n'"
            ]
          },
          "execution_count": 15,
          "metadata": {},
          "output_type": "execute_result"
        }
      ],
      "source": [
        "### Exercise 4 - List of Data Science Languages\n",
        "\"\"\"\n",
        "Some commonly used programming languages in Data Science:\n",
        "1. Python\n",
        "2. R\n",
        "3. SQL\n",
        "4. Java\n",
        "5. Julia\n",
        "6. Scala\n",
        "7. MATLAB\n",
        "\"\"\""
      ]
    },
    {
      "cell_type": "code",
      "execution_count": 16,
      "metadata": {
        "colab": {
          "base_uri": "https://localhost:8080/",
          "height": 36
        },
        "id": "8qGv7W7vWoa3",
        "outputId": "53b6ed6c-7aef-46c3-bcc4-a6594d9cbc4e"
      },
      "outputs": [
        {
          "data": {
            "application/vnd.google.colaboratory.intrinsic+json": {
              "type": "string"
            },
            "text/plain": [
              "'\\nPopular libraries used in Data Science:\\n- Pandas\\n- NumPy\\n- Matplotlib\\n- Seaborn\\n- Scikit-learn\\n- TensorFlow\\n- Keras\\n- PyTorch\\n'"
            ]
          },
          "execution_count": 16,
          "metadata": {},
          "output_type": "execute_result"
        }
      ],
      "source": [
        "### Exercise 5 - List of Data Science Libraries\n",
        "\"\"\"\n",
        "Popular libraries used in Data Science:\n",
        "- Pandas\n",
        "- NumPy\n",
        "- Matplotlib\n",
        "- Seaborn\n",
        "- Scikit-learn\n",
        "- TensorFlow\n",
        "- Keras\n",
        "- PyTorch\n",
        "\"\"\""
      ]
    },
    {
      "cell_type": "code",
      "execution_count": 17,
      "metadata": {
        "colab": {
          "base_uri": "https://localhost:8080/",
          "height": 55
        },
        "id": "VuVNScF_WwqB",
        "outputId": "5a4e25e1-7477-456c-e587-b92d870ab4dd"
      },
      "outputs": [
        {
          "data": {
            "application/vnd.google.colaboratory.intrinsic+json": {
              "type": "string"
            },
            "text/plain": [
              "'\\n| Tool Name          | Purpose                          |\\n|--------------------|--------------------------------|\\n| Jupyter Notebook  | Interactive coding environment |\\n| RStudio           | Statistical computing          |\\n| Apache Spark      | Big Data Processing            |\\n| TensorFlow        | Machine Learning Framework     |\\n| Power BI          | Data Visualization             |\\n'"
            ]
          },
          "execution_count": 17,
          "metadata": {},
          "output_type": "execute_result"
        }
      ],
      "source": [
        "### Exercise 6 - Table of Data Science Tools\n",
        "\"\"\"\n",
        "| Tool Name          | Purpose                          |\n",
        "|--------------------|--------------------------------|\n",
        "| Jupyter Notebook  | Interactive coding environment |\n",
        "| RStudio           | Statistical computing          |\n",
        "| Apache Spark      | Big Data Processing            |\n",
        "| TensorFlow        | Machine Learning Framework     |\n",
        "| Power BI          | Data Visualization             |\n",
        "\"\"\""
      ]
    },
    {
      "cell_type": "code",
      "execution_count": 18,
      "metadata": {
        "colab": {
          "base_uri": "https://localhost:8080/",
          "height": 36
        },
        "id": "IwgsomuKW6Kv",
        "outputId": "fb8541ab-ea84-4dbf-a01c-eb175e1ef817"
      },
      "outputs": [
        {
          "data": {
            "application/vnd.google.colaboratory.intrinsic+json": {
              "type": "string"
            },
            "text/plain": [
              "'\\nArithmetic expressions  are mathematical operations such as addition, subtraction, multiplication, and division.\\n'"
            ]
          },
          "execution_count": 18,
          "metadata": {},
          "output_type": "execute_result"
        }
      ],
      "source": [
        "### Exercise 7 - Introduction to Arithmetic Expression Examples\n",
        "\"\"\"\n",
        "Arithmetic expressions  are mathematical operations such as addition, subtraction, multiplication, and division.\n",
        "\"\"\""
      ]
    },
    {
      "cell_type": "code",
      "execution_count": 19,
      "metadata": {
        "colab": {
          "base_uri": "https://localhost:8080/"
        },
        "id": "ZTcQkzgyXF-_",
        "outputId": "d92cfbda-6648-4566-fb99-349ee1602052"
      },
      "outputs": [
        {
          "name": "stdout",
          "output_type": "stream",
          "text": [
            "Multiplication Result: 15\n",
            "Addition Result: 8\n"
          ]
        }
      ],
      "source": [
        "## Exercise 8 - Create a code cell to multiply and add numbers.\n",
        "\n",
        "num1 = 5\n",
        "num2 = 3\n",
        "result_multiply = num1 * num2\n",
        "result_add = num1 + num2\n",
        "print(\"Multiplication Result:\", result_multiply)\n",
        "print(\"Addition Result:\", result_add)"
      ]
    },
    {
      "cell_type": "code",
      "execution_count": 20,
      "metadata": {
        "colab": {
          "base_uri": "https://localhost:8080/"
        },
        "id": "EY-5TbLaXVga",
        "outputId": "7ee89334-4f30-461b-e3d2-00139504d575"
      },
      "outputs": [
        {
          "name": "stdout",
          "output_type": "stream",
          "text": [
            "Hours: 2.0\n"
          ]
        }
      ],
      "source": [
        "## Exercise 9 - Create a code cell to convert minutes to hours.\n",
        "minutes = 120\n",
        "hours = minutes / 60\n",
        "print(\"Hours:\", hours)"
      ]
    },
    {
      "cell_type": "code",
      "execution_count": 21,
      "metadata": {
        "colab": {
          "base_uri": "https://localhost:8080/",
          "height": 36
        },
        "id": "E-jrIHR-Xfp9",
        "outputId": "24eec197-12ab-4a2e-9c7f-11880a90aa14"
      },
      "outputs": [
        {
          "data": {
            "application/vnd.google.colaboratory.intrinsic+json": {
              "type": "string"
            },
            "text/plain": [
              "'\\nKey objectives of this notebook:\\n- Understand popular Data Science languages\\n- Learn about commonly used libraries\\n- Explore different Data Science tools\\n- Perform basic arithmetic operations\\n- Convert units (minutes to hours)\\n'"
            ]
          },
          "execution_count": 21,
          "metadata": {},
          "output_type": "execute_result"
        }
      ],
      "source": [
        "# Exercise 10 -Insert a markdown cell to list Objectives.\n",
        "\n",
        "\"\"\"\n",
        "Key objectives of this notebook:\n",
        "- Understand popular Data Science languages\n",
        "- Learn about commonly used libraries\n",
        "- Explore different Data Science tools\n",
        "- Perform basic arithmetic operations\n",
        "- Convert units (minutes to hours)\n",
        "\"\"\""
      ]
    },
    {
      "cell_type": "code",
      "execution_count": 22,
      "metadata": {
        "colab": {
          "base_uri": "https://localhost:8080/",
          "height": 36
        },
        "id": "SQxJHytoXivM",
        "outputId": "dc576079-b4a7-47bc-de05-a3a9f4f9c490"
      },
      "outputs": [
        {
          "data": {
            "application/vnd.google.colaboratory.intrinsic+json": {
              "type": "string"
            },
            "text/plain": [
              "'\\n**Author:** Vigneshwar Reddy Sheelam\\n'"
            ]
          },
          "execution_count": 22,
          "metadata": {},
          "output_type": "execute_result"
        }
      ],
      "source": [
        "# Exercise 11 - Create a markdown cell to indicate the Author’s name.\n",
        "\"\"\"\n",
        "**Author:** Vigneshwar Reddy Sheelam\n",
        "\"\"\""
      ]
    },
    {
      "cell_type": "code",
      "execution_count": 22,
      "metadata": {
        "id": "g-_-OPdmYIIT"
      },
      "outputs": [],
      "source": []
    }
  ],
  "metadata": {
    "colab": {
      "provenance": []
    },
    "kernelspec": {
      "display_name": "Python 3",
      "name": "python3"
    },
    "language_info": {
      "codemirror_mode": {
        "name": "ipython",
        "version": 3
      },
      "file_extension": ".py",
      "mimetype": "text/x-python",
      "name": "python",
      "nbconvert_exporter": "python",
      "pygments_lexer": "ipython3",
      "version": "3.9.12"
    }
  },
  "nbformat": 4,
  "nbformat_minor": 0
}
